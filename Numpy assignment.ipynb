{
 "cells": [
  {
   "cell_type": "markdown",
   "metadata": {},
   "source": [
    "### Write a function so that the columns of the output matrix are powers of the input\n",
    "vector.\n",
    "The order of the powers is determined by the increasing boolean argument. Specifically, when\n",
    "increasing is False, the i-th output column is the input vector raised element-wise to the power\n",
    "of N - i - 1.\n",
    "HINT: Such a matrix with a geometric progression in each row is named for Alexandre-\n",
    "Theophile Vandermonde."
   ]
  },
  {
   "cell_type": "code",
   "execution_count": 1,
   "metadata": {},
   "outputs": [],
   "source": [
    "import numpy as np"
   ]
  },
  {
   "cell_type": "code",
   "execution_count": 2,
   "metadata": {},
   "outputs": [],
   "source": [
    "def atv(vector, n, increasing = False):\n",
    "    if increasing:\n",
    "        mat = np.matrix([x**i for x in vector for i in range(n)]). reshape(vector.size, n)\n",
    "    else:\n",
    "        mat = np.matrix([x**(n-i-1) for x in vector for i in range(n)]).reshape(vector.size, n)\n",
    "    return mat"
   ]
  },
  {
   "cell_type": "code",
   "execution_count": 3,
   "metadata": {},
   "outputs": [],
   "source": [
    "vector = np.array([1,2,3,4,5,6])\n",
    "n = 6"
   ]
  },
  {
   "cell_type": "code",
   "execution_count": 4,
   "metadata": {},
   "outputs": [
    {
     "data": {
      "text/plain": [
       "matrix([[   1,    1,    1,    1,    1,    1],\n",
       "        [   1,    2,    4,    8,   16,   32],\n",
       "        [   1,    3,    9,   27,   81,  243],\n",
       "        [   1,    4,   16,   64,  256, 1024],\n",
       "        [   1,    5,   25,  125,  625, 3125],\n",
       "        [   1,    6,   36,  216, 1296, 7776]])"
      ]
     },
     "execution_count": 4,
     "metadata": {},
     "output_type": "execute_result"
    }
   ],
   "source": [
    "mat_asc = atv(vector, n, True)\n",
    "mat_asc"
   ]
  },
  {
   "cell_type": "code",
   "execution_count": 5,
   "metadata": {},
   "outputs": [
    {
     "data": {
      "text/plain": [
       "matrix([[   1,    1,    1,    1,    1,    1],\n",
       "        [  32,   16,    8,    4,    2,    1],\n",
       "        [ 243,   81,   27,    9,    3,    1],\n",
       "        [1024,  256,   64,   16,    4,    1],\n",
       "        [3125,  625,  125,   25,    5,    1],\n",
       "        [7776, 1296,  216,   36,    6,    1]])"
      ]
     },
     "execution_count": 5,
     "metadata": {},
     "output_type": "execute_result"
    }
   ],
   "source": [
    "mat_desc = atv(vector, n, False)\n",
    "mat_desc"
   ]
  },
  {
   "cell_type": "markdown",
   "metadata": {},
   "source": [
    "### Write a function to find moving average in an array over a window:\n",
    "Test it over [3, 5, 7, 2, 8, 10, 11, 65, 72, 81, 99, 100, 150] and window of 3."
   ]
  },
  {
   "cell_type": "code",
   "execution_count": 6,
   "metadata": {},
   "outputs": [],
   "source": [
    "def mov_avg(value, n):\n",
    "    a = 1\n",
    "    output = np.convolve(value,np.ones(n), 'valid') / n\n",
    "    for i in output:\n",
    "        print(\"y{0} = {1:.2f}\".format(a,i))\n",
    "        a += 1"
   ]
  },
  {
   "cell_type": "code",
   "execution_count": 7,
   "metadata": {},
   "outputs": [
    {
     "name": "stdout",
     "output_type": "stream",
     "text": [
      "y1 = 5.00\n",
      "y2 = 4.67\n",
      "y3 = 5.67\n",
      "y4 = 6.67\n",
      "y5 = 9.67\n",
      "y6 = 28.67\n",
      "y7 = 49.33\n",
      "y8 = 72.67\n",
      "y9 = 84.00\n",
      "y10 = 93.33\n",
      "y11 = 116.33\n"
     ]
    }
   ],
   "source": [
    "value = np.array([3, 5, 7, 2, 8, 10, 11, 65, 72, 81, 99, 100, 150])\n",
    "n = 3\n",
    "mov_avg(value, n)"
   ]
  },
  {
   "cell_type": "code",
   "execution_count": null,
   "metadata": {},
   "outputs": [],
   "source": []
  }
 ],
 "metadata": {
  "kernelspec": {
   "display_name": "Python 3",
   "language": "python",
   "name": "python3"
  },
  "language_info": {
   "codemirror_mode": {
    "name": "ipython",
    "version": 3
   },
   "file_extension": ".py",
   "mimetype": "text/x-python",
   "name": "python",
   "nbconvert_exporter": "python",
   "pygments_lexer": "ipython3",
   "version": "3.8.5"
  }
 },
 "nbformat": 4,
 "nbformat_minor": 4
}
